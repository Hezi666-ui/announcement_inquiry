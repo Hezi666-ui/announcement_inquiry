{
 "cells": [
  {
   "cell_type": "code",
   "execution_count": 3,
   "metadata": {},
   "outputs": [],
   "source": [
    "import pandas as pd\n",
    "import numpy as np\n",
    "import requests\n",
    "import json\n",
    "import math\n",
    "from lxml import etree\n",
    "import time\n",
    "from datetime import datetime"
   ]
  },
  {
   "cell_type": "code",
   "execution_count": 1,
   "metadata": {},
   "outputs": [],
   "source": [
    "url = \"https://query.sse.com.cn/commonSoaQuery.do\"\n",
    "headers = {\n",
    "    'user-agent':'Mozilla/5.0 (Windows NT 10.0; Win64; x64) AppleWebKit/537.36 (KHTML, like Gecko) Chrome/131.0.0.0 Safari/537.36 Edg/131.0.0.0'\n",
    "}"
   ]
  },
  {
   "cell_type": "code",
   "execution_count": null,
   "metadata": {},
   "outputs": [],
   "source": [
    "\n",
    "# params = {\n",
    "#     \"jsonCallBack\": \"jsonpCallback\"+str(int(np.floor(np.random.rand()*(100000000 + 1)))),\n",
    "#     \"isPagination\": \"true\",\n",
    "#     \"pageHelp.pageSize\": \"25\",\n",
    "#     \"pageHelp.cacheSize\": \"1\",\n",
    "#     \"type\": \"inParams\",\n",
    "#     \"sqlId\": \"BS_ZQ_GGLL\",\n",
    "#     \"sseDate\": \"2024-10-18 00:00:00\",\n",
    "#     \"sseDateEnd\": \"2024-10-19 23:59:59\",\n",
    "#     \"securityCode\": \"\",\n",
    "#     \"title\": \"\",\n",
    "#     \"orgBulletinType\": \"\",\n",
    "#     \"bondType\": \"CORPORATE_BOND_BULLETIN,COMPANY_BOND_BULLETIN\",\n",
    "#     \"order\": \"sseDate|desc,securityCode|asc,bulletinId|asc\",\n",
    "#     \"pageHelp.pageNo\": \"1\",\n",
    "#     \"pageHelp.beginPage\": \"1\",\n",
    "#     \"pageHelp.endPage\": \"1\",\n",
    "#     # \"_\": \"1729388371759\",\n",
    "# }\n",
    "# requests.get(url, headers=headers, params=params).text"
   ]
  },
  {
   "cell_type": "code",
   "execution_count": 35,
   "metadata": {},
   "outputs": [
    {
     "data": {
      "text/plain": [
       "'29484480'"
      ]
     },
     "execution_count": 35,
     "metadata": {},
     "output_type": "execute_result"
    }
   ],
   "source": [
    "str(int(np.floor(np.random.rand()*(100000000 + 1))))"
   ]
  },
  {
   "cell_type": "code",
   "execution_count": 8,
   "metadata": {},
   "outputs": [],
   "source": [
    "resp = requests.get('https://www.sse.com.cn/disclosure/bond/announcement/gkfxgszq/').text"
   ]
  },
  {
   "cell_type": "code",
   "execution_count": 9,
   "metadata": {},
   "outputs": [],
   "source": [
    "resp_html = etree.HTML(resp)"
   ]
  },
  {
   "cell_type": "code",
   "execution_count": 10,
   "metadata": {},
   "outputs": [],
   "source": [
    "table = resp_html.xpath('//table[@class=\"table table-hover \"]')"
   ]
  },
  {
   "cell_type": "code",
   "execution_count": 11,
   "metadata": {},
   "outputs": [
    {
     "data": {
      "text/plain": [
       "'<!DOCTYPE html PUBLIC \"-//W3C//DTD XHTML 1.0 Transitional//EN\" \"http://www.w3.org/TR/xhtml1/DTD/xhtml1-transitional.dtd\"><html xmlns=\"http://www.w3.org/1999/xhtml\"><head><META HTTP-EQUIV=\"CONTENT-TYPE\" CONTENT=\"TEXT/HTML; CHARSET=utf-8\"/><title>Error</title></head><body><H2>Error</H2><table summary=\"Error\" border=\"0\" bgcolor=\"#FEEE7A\" cellpadding=\"0\" cellspacing=\"0\" width=\"400\"><tr><td><table summary=\"Error\" border=\"0\" cellpadding=\"3\" cellspacing=\"1\"><tr valign=\"top\" bgcolor=\"#FBFFDF\" align=\"left\"><td><STRONG>Error</STRONG></td></tr><tr valign=\"top\" bgcolor=\"#FFFFFF\"><td>This page can\\'t be displayed. Contact support for additional information.<br/>The incident ID is: N/A.</td></tr></table></td></tr></table></body></html>'"
      ]
     },
     "execution_count": 11,
     "metadata": {},
     "output_type": "execute_result"
    }
   ],
   "source": [
    "resp"
   ]
  },
  {
   "cell_type": "code",
   "execution_count": null,
   "metadata": {},
   "outputs": [],
   "source": []
  }
 ],
 "metadata": {
  "kernelspec": {
   "display_name": "Python 3",
   "language": "python",
   "name": "python3"
  },
  "language_info": {
   "codemirror_mode": {
    "name": "ipython",
    "version": 3
   },
   "file_extension": ".py",
   "mimetype": "text/x-python",
   "name": "python",
   "nbconvert_exporter": "python",
   "pygments_lexer": "ipython3",
   "version": "3.9.13"
  }
 },
 "nbformat": 4,
 "nbformat_minor": 2
}
